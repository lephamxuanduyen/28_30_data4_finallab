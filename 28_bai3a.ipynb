{
 "cells": [
  {
   "cell_type": "code",
   "execution_count": null,
   "metadata": {},
   "outputs": [],
   "source": [
    "# Bài 3a\n",
    "\n",
    "with open(\"data.txt\", \"r\", encoding=\"utf-8\") as f:\n",
    "    data = f.read()\n",
    "data = data.split(\"\\n\")\n",
    "while \"\" in data:\n",
    "    data.remove(\"\")\n",
    "\n",
    "from sklearn.feature_extraction.text import CountVectorizer\n",
    "\n",
    "# Xay dung vector BOW\n",
    "vect = CountVectorizer()\n",
    "X = vect.fit_transform(data)\n",
    "\n",
    "# Xay dung tu dien\n",
    "dictionary=list(vect.get_feature_names_out())\n",
    "\n",
    "print(\"Words in dictionary: \", dictionary)\n",
    "print(\"Vector Bag-of-Word: \\n\", X.toarray())"
   ]
  }
 ],
 "metadata": {
  "language_info": {
   "name": "python"
  }
 },
 "nbformat": 4,
 "nbformat_minor": 2
}
