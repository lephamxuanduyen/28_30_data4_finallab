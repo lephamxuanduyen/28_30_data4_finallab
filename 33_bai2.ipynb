{
 "cells": [
  {
   "cell_type": "code",
   "execution_count": null,
   "metadata": {},
   "outputs": [],
   "source": [
    "# Bài 2\n",
    "\n",
    "from nltk.probability import FreqDist\n",
    "from nltk.corpus import stopwords\n",
    "\n",
    "with open(\"data.txt\", \"r\", encoding=\"utf-8\") as f:\n",
    "    text = f.read()\n",
    "text = text.replace(\"\\n\", \" \")\n",
    "text = text.split(\" \")\n",
    "while \"\" in text:\n",
    "    text.remove(\"\")\n",
    "#################################\n",
    "##### Exploring Text Data #######\n",
    "#################################\n",
    "#print(\"List of Datasets:\",text_pre)\n",
    "print(\"Number of words: \",len(text))\n",
    "\n",
    "# Compute the frequency of all words\n",
    "frequency_dist = FreqDist(word.lower() for word in text)\n",
    "\n",
    "## show only th top 50 results\n",
    "print(frequency_dist.most_common(50))\n",
    "\n",
    "\n",
    "## Consider words with length greater than 3 and plot\n",
    "large_words = dict([(k,v) for k,v in frequency_dist.items() if len(k)>3])\n",
    "frequency_dist = nltk.FreqDist(large_words)\n",
    "frequency_dist.plot(50,cumulative=False)\n",
    "\n",
    "\n",
    "## Build a word cloud\n",
    "# install library\n",
    "# pip install wordcloud\n",
    "\n",
    "from wordcloud import WordCloud\n",
    "wcloud = WordCloud().generate_from_frequencies(frequency_dist)\n",
    "#plotting the wordcloud\n",
    "import matplotlib.pyplot as plt\n",
    "plt.imshow(wcloud, interpolation=\"bilinear\")\n",
    "plt.axis(\"off\")\n",
    "plt.show()"
   ]
  }
 ],
 "metadata": {
  "language_info": {
   "name": "python"
  }
 },
 "nbformat": 4,
 "nbformat_minor": 2
}
