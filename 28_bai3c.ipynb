{
 "cells": [
  {
   "cell_type": "code",
   "execution_count": 1,
   "metadata": {},
   "outputs": [
    {
     "name": "stdout",
     "output_type": "stream",
     "text": [
      "      acb  again  ai_ai  ai_ngờ  alo   an  an_toàn  angry_face       anh  \\\n",
      "0     0.0    0.0    0.0     0.0  0.0  0.0      0.0    0.000000  0.000000   \n",
      "1     0.0    0.0    0.0     0.0  0.0  0.0      0.0    0.000000  0.000000   \n",
      "2     0.0    0.0    0.0     0.0  0.0  0.0      0.0    0.000000  0.000000   \n",
      "3     0.0    0.0    0.0     0.0  0.0  0.0      0.0    0.000000  0.000000   \n",
      "4     0.0    0.0    0.0     0.0  0.0  0.0      0.0    0.000000  0.000000   \n",
      "...   ...    ...    ...     ...  ...  ...      ...         ...       ...   \n",
      "5928  0.0    0.0    0.0     0.0  0.0  0.0      0.0    0.000000  0.133798   \n",
      "5929  0.0    0.0    0.0     0.0  0.0  0.0      0.0    0.000000  0.000000   \n",
      "5930  0.0    0.0    0.0     0.0  0.0  0.0      0.0    0.488119  0.000000   \n",
      "5931  0.0    0.0    0.0     0.0  0.0  0.0      0.0    0.000000  0.000000   \n",
      "5932  0.0    0.0    0.0     0.0  0.0  0.0      0.0    0.000000  0.000000   \n",
      "\n",
      "      anh_chị  ...  ếch   ọ_  ỏrder   ốc   ồn  ồn_ào   ổi   ổn   ớn   ớt  \n",
      "0         0.0  ...  0.0  0.0    0.0  0.0  0.0    0.0  0.0  0.0  0.0  0.0  \n",
      "1         0.0  ...  0.0  0.0    0.0  0.0  0.0    0.0  0.0  0.0  0.0  0.0  \n",
      "2         0.0  ...  0.0  0.0    0.0  0.0  0.0    0.0  0.0  0.0  0.0  0.0  \n",
      "3         0.0  ...  0.0  0.0    0.0  0.0  0.0    0.0  0.0  0.0  0.0  0.0  \n",
      "4         0.0  ...  0.0  0.0    0.0  0.0  0.0    0.0  0.0  0.0  0.0  0.0  \n",
      "...       ...  ...  ...  ...    ...  ...  ...    ...  ...  ...  ...  ...  \n",
      "5928      0.0  ...  0.0  0.0    0.0  0.0  0.0    0.0  0.0  0.0  0.0  0.0  \n",
      "5929      0.0  ...  0.0  0.0    0.0  0.0  0.0    0.0  0.0  0.0  0.0  0.0  \n",
      "5930      0.0  ...  0.0  0.0    0.0  0.0  0.0    0.0  0.0  0.0  0.0  0.0  \n",
      "5931      0.0  ...  0.0  0.0    0.0  0.0  0.0    0.0  0.0  0.0  0.0  0.0  \n",
      "5932      0.0  ...  0.0  0.0    0.0  0.0  0.0    0.0  0.0  0.0  0.0  0.0  \n",
      "\n",
      "[5933 rows x 2129 columns]\n"
     ]
    }
   ],
   "source": [
    "with open(\"data.txt\", \"r\", encoding=\"utf-8\") as f:\n",
    "    D = f.read()\n",
    "D = D.split(\"\\n\")\n",
    "while \"\" in D:\n",
    "    D.remove(\"\")\n",
    "    \n",
    "#Reference source: https://www.learndatasci.com/glossary/tf-idf-term-frequency-inverse-document-frequency/\n",
    "\n",
    "# import required module\n",
    "from sklearn.feature_extraction.text import TfidfVectorizer\n",
    "import pandas as pd\n",
    "\n",
    "\n",
    "tr_idf_model  = TfidfVectorizer()\n",
    "tf_idf_vector = tr_idf_model.fit_transform(D)\n",
    "\n",
    "tf_idf_array = tf_idf_vector.toarray()\n",
    "# print(tf_idf_array)\n",
    "\n",
    "W = tr_idf_model.get_feature_names_out()\n",
    "# print(W)\n",
    "\n",
    "df_tf_idf = pd.DataFrame(tf_idf_array, columns = W)\n",
    "print(df_tf_idf)"
   ]
  }
 ],
 "metadata": {
  "kernelspec": {
   "display_name": "Python 3",
   "language": "python",
   "name": "python3"
  },
  "language_info": {
   "codemirror_mode": {
    "name": "ipython",
    "version": 3
   },
   "file_extension": ".py",
   "mimetype": "text/x-python",
   "name": "python",
   "nbconvert_exporter": "python",
   "pygments_lexer": "ipython3",
   "version": "3.11.5"
  }
 },
 "nbformat": 4,
 "nbformat_minor": 2
}
